{
 "cells": [
  {
   "cell_type": "code",
   "execution_count": 44,
   "metadata": {
    "colab": {
     "base_uri": "https://localhost:8080/"
    },
    "executionInfo": {
     "elapsed": 4287,
     "status": "ok",
     "timestamp": 1730414978616,
     "user": {
      "displayName": "Rafael Spumberg",
      "userId": "06170716006991952872"
     },
     "user_tz": 180
    },
    "id": "OFsDT-45Kjmk",
    "outputId": "9c36fb61-621c-48eb-b307-34e421b09895"
   },
   "outputs": [
    {
     "name": "stdout",
     "output_type": "stream",
     "text": [
      "Requirement already satisfied: pymongo[srv,tls] in /usr/local/lib/python3.10/dist-packages (4.10.1)\n",
      "\u001b[33mWARNING: pymongo 4.10.1 does not provide the extra 'srv'\u001b[0m\u001b[33m\n",
      "\u001b[0m\u001b[33mWARNING: pymongo 4.10.1 does not provide the extra 'tls'\u001b[0m\u001b[33m\n",
      "\u001b[0mRequirement already satisfied: dnspython<3.0.0,>=1.16.0 in /usr/local/lib/python3.10/dist-packages (from pymongo[srv,tls]) (2.7.0)\n"
     ]
    }
   ],
   "source": [
    "!pip install pymongo[srv,tls]"
   ]
  },
  {
   "cell_type": "code",
   "execution_count": 45,
   "metadata": {
    "executionInfo": {
     "elapsed": 556,
     "status": "ok",
     "timestamp": 1730415010268,
     "user": {
      "displayName": "Rafael Spumberg",
      "userId": "06170716006991952872"
     },
     "user_tz": 180
    },
    "id": "ctEFXcWwLLri"
   },
   "outputs": [],
   "source": [
    "import pymongo\n",
    "import json\n",
    "from pprint import pprint"
   ]
  },
  {
   "cell_type": "code",
   "execution_count": null,
   "metadata": {
    "executionInfo": {
     "elapsed": 526,
     "status": "ok",
     "timestamp": 1730411904893,
     "user": {
      "displayName": "Rafael Spumberg",
      "userId": "06170716006991952872"
     },
     "user_tz": 180
    },
    "id": "eh8XjwtnL1UR"
   },
   "outputs": [],
   "source": [
    "mongo_user = \"xxxxxxxxx\"\n",
    "mongo_pw = \"xxxxxxxxx\"\n",
    "mongo_host = \"xxxxxxxxx\"\n",
    "mongo_app = \"xxxxxxxxx\"\n",
    "\n",
    "conexao = pymongo.MongoClient(\"mongodb+srv://\" + mongo_user + \":\" + mongo_pw + \"@\" + mongo_host + \"/?retryWrites=true&w=majority&appName=\" + mongo_app)"
   ]
  },
  {
   "cell_type": "code",
   "execution_count": 46,
   "metadata": {
    "colab": {
     "base_uri": "https://localhost:8080/"
    },
    "executionInfo": {
     "elapsed": 577,
     "status": "ok",
     "timestamp": 1730415025526,
     "user": {
      "displayName": "Rafael Spumberg",
      "userId": "06170716006991952872"
     },
     "user_tz": 180
    },
    "id": "kx_TG1dsUKv_",
    "outputId": "0a80d407-8b3c-4fe8-9f17-8b7620741640"
   },
   "outputs": [
    {
     "data": {
      "text/plain": [
       "['Trabalho1', 'admin', 'local']"
      ]
     },
     "execution_count": 46,
     "metadata": {},
     "output_type": "execute_result"
    }
   ],
   "source": [
    "conexao.list_database_names()"
   ]
  },
  {
   "cell_type": "code",
   "execution_count": 47,
   "metadata": {
    "executionInfo": {
     "elapsed": 569,
     "status": "ok",
     "timestamp": 1730415039788,
     "user": {
      "displayName": "Rafael Spumberg",
      "userId": "06170716006991952872"
     },
     "user_tz": 180
    },
    "id": "uPHccwwrSFo1"
   },
   "outputs": [],
   "source": [
    "bd_Trabalho1 = conexao[\"Trabalho1\"]\n"
   ]
  },
  {
   "cell_type": "code",
   "execution_count": 48,
   "metadata": {
    "colab": {
     "base_uri": "https://localhost:8080/"
    },
    "executionInfo": {
     "elapsed": 572,
     "status": "ok",
     "timestamp": 1730415045581,
     "user": {
      "displayName": "Rafael Spumberg",
      "userId": "06170716006991952872"
     },
     "user_tz": 180
    },
    "id": "3qaA--g9_UdL",
    "outputId": "ad463a48-c9ed-4397-f351-ddc93174d72e"
   },
   "outputs": [
    {
     "name": "stdout",
     "output_type": "stream",
     "text": [
      "['Trabalho1', 'admin', 'local']\n"
     ]
    }
   ],
   "source": [
    "print(conexao.list_database_names())"
   ]
  },
  {
   "cell_type": "code",
   "execution_count": 49,
   "metadata": {
    "executionInfo": {
     "elapsed": 551,
     "status": "ok",
     "timestamp": 1730415052564,
     "user": {
      "displayName": "Rafael Spumberg",
      "userId": "06170716006991952872"
     },
     "user_tz": 180
    },
    "id": "Nmgsqcsx_p6w"
   },
   "outputs": [],
   "source": [
    "bd = conexao[\"Trabalho1\"]"
   ]
  },
  {
   "cell_type": "code",
   "execution_count": 59,
   "metadata": {
    "colab": {
     "base_uri": "https://localhost:8080/"
    },
    "executionInfo": {
     "elapsed": 364,
     "status": "ok",
     "timestamp": 1730419189860,
     "user": {
      "displayName": "Rafael Spumberg",
      "userId": "06170716006991952872"
     },
     "user_tz": 180
    },
    "id": "VshbjS0jzlUG",
    "outputId": "259a4992-e24d-4fe3-b2e2-0079cedc14d0"
   },
   "outputs": [
    {
     "data": {
      "text/plain": [
       "[]"
      ]
     },
     "execution_count": 59,
     "metadata": {},
     "output_type": "execute_result"
    }
   ],
   "source": [
    "bd.list_collection_names()"
   ]
  },
  {
   "cell_type": "code",
   "execution_count": 85,
   "metadata": {
    "colab": {
     "base_uri": "https://localhost:8080/"
    },
    "executionInfo": {
     "elapsed": 929,
     "status": "ok",
     "timestamp": 1730420691303,
     "user": {
      "displayName": "Rafael Spumberg",
      "userId": "06170716006991952872"
     },
     "user_tz": 180
    },
    "id": "QkxgDC5vHBTy",
    "outputId": "2d650384-1d40-468d-d56b-1a67dc16a376"
   },
   "outputs": [
    {
     "data": {
      "text/plain": [
       "{'nIndexesWas': 1,\n",
       " 'ns': 'Trabalho1.pedidos',\n",
       " 'ok': 1.0,\n",
       " '$clusterTime': {'clusterTime': Timestamp(1730420690, 2),\n",
       "  'signature': {'hash': b'\\x9a}I\\xfd\\x8fl\\xa9\\x95\\xe1\\x1f\\x8e\\xa4k\\x08(gA\\xda3\\xa2',\n",
       "   'keyId': 7426820941021184005}},\n",
       " 'operationTime': Timestamp(1730420690, 2)}"
      ]
     },
     "execution_count": 85,
     "metadata": {},
     "output_type": "execute_result"
    }
   ],
   "source": [
    "bd.drop_collection(\"clientes\")\n",
    "bd.drop_collection(\"produtos\")\n",
    "bd.drop_collection(\"pedidos\")"
   ]
  },
  {
   "cell_type": "code",
   "execution_count": 86,
   "metadata": {
    "executionInfo": {
     "elapsed": 915,
     "status": "ok",
     "timestamp": 1730420694930,
     "user": {
      "displayName": "Rafael Spumberg",
      "userId": "06170716006991952872"
     },
     "user_tz": 180
    },
    "id": "SNw2nRww1bln"
   },
   "outputs": [],
   "source": [
    "bd.create_collection(\"clientes\", validator={\n",
    "    \"$jsonSchema\": {\n",
    "        \"bsonType\": \"object\",\n",
    "        \"title\": \"Clientes do estabelecimento\",\n",
    "        \"required\": [\"nome\", \"data_cadastro\", \"tipo\", \"documento\", \"endereco\", \"telefones\", \"cliente_id\"],\n",
    "        \"properties\": {\n",
    "            \"nome\": {\n",
    "                \"bsonType\": \"string\",\n",
    "                \"description\": \"Nome do cliente, obrigatório e deve ser uma string\"\n",
    "            },\n",
    "            \"data_cadastro\": {\n",
    "                \"bsonType\": \"date\",\n",
    "                \"description\": \"Data de cadastro, obrigatória e deve ser uma data\"\n",
    "            },\n",
    "            \"tipo\": {\n",
    "                \"bsonType\": \"string\",\n",
    "                \"enum\": [\"F\", \"J\"],\n",
    "                \"description\": \"Tipo de cliente, obrigatório e deve ser 'F' (Pessoa física) ou 'J' (Pessoa Jurídica)\"\n",
    "            },\n",
    "            \"documento\": {\n",
    "                \"bsonType\": \"object\",\n",
    "                \"description\": \"Informações de CPF ou CNPJ\",\n",
    "                \"properties\": {\n",
    "                    \"cpf\": {\n",
    "                        \"bsonType\": \"string\",\n",
    "                        \"pattern\": \"^[0-9]{3}\\\\.[0-9]{3}\\\\.[0-9]{3}-[0-9]{2}$\",\n",
    "                        \"description\": \"CPF do cliente, obrigatório para pessoa física, formato XXX.XXX.XXX-XX\"\n",
    "                    },\n",
    "                    \"data_nascimento\": {\n",
    "                        \"bsonType\": \"date\",\n",
    "                        \"description\": \"Data de nascimento, obrigatória para pessoa física\"\n",
    "                    },\n",
    "                    \"genero\": {\n",
    "                        \"bsonType\": \"string\",\n",
    "                        \"enum\": [\"M\", \"F\"],\n",
    "                        \"description\": \"Gênero, obrigatório para pessoa física\"\n",
    "                    },\n",
    "                    \"cnpj\": {\n",
    "                        \"bsonType\": \"string\",\n",
    "                        \"pattern\": \"^[0-9]{2}\\\\.[0-9]{3}\\\\.[0-9]{3}\\\\/[0-9]{4}-[0-9]{2}$\",\n",
    "                        \"description\": \"CNPJ da empresa, obrigatório para pessoa jurídica, formato XX.XXX.XXX/XXXX-XX\"\n",
    "                    },\n",
    "                    \"razao_social\": {\n",
    "                        \"bsonType\": \"string\",\n",
    "                        \"description\": \"Razão social, obrigatória para pessoa jurídica\"\n",
    "                    }\n",
    "                }\n",
    "            },\n",
    "            \"endereco\": {\n",
    "                \"bsonType\": \"array\",\n",
    "                \"minItems\": 1,\n",
    "                \"items\": {\n",
    "                    \"bsonType\": \"object\",\n",
    "                    \"required\": [\"rua\", \"numero\", \"cep\", \"cidade\"],\n",
    "                    \"properties\": {\n",
    "                        \"rua\": {\n",
    "                            \"bsonType\": \"string\",\n",
    "                            \"description\": \"Nome da rua, obrigatório e deve ser uma string\"\n",
    "                        },\n",
    "                        \"numero\": {\n",
    "                            \"bsonType\": \"int\",\n",
    "                            \"description\": \"Número, obrigatório e deve ser um inteiro\"\n",
    "                        },\n",
    "                        \"complemento\": {\n",
    "                            \"bsonType\": \"string\",\n",
    "                            \"description\": \"Complemento, opcional\"\n",
    "                        },\n",
    "                        \"cep\": {\n",
    "                            \"bsonType\": \"string\",\n",
    "                            \"pattern\": \"^[0-9]{5}-[0-9]{3}$\",\n",
    "                            \"description\": \"CEP no formato XXXXX-XXX\"\n",
    "                        },\n",
    "                        \"cidade\": {\n",
    "                            \"bsonType\": \"object\",\n",
    "                            \"required\": [\"nome\", \"uf\", \"estado_nome\", \"regiao\"],\n",
    "                            \"properties\": {\n",
    "                                \"nome\": {\n",
    "                                    \"bsonType\": \"string\",\n",
    "                                    \"description\": \"Nome da cidade, obrigatório\"\n",
    "                                },\n",
    "                                \"uf\": {\n",
    "                                    \"bsonType\": \"string\",\n",
    "                                    \"pattern\": \"^[A-Z]{2}$\",\n",
    "                                    \"description\": \"UF com 2 letras maiúsculas\"\n",
    "                                },\n",
    "                                \"estado_nome\": {\n",
    "                                    \"bsonType\": \"string\",\n",
    "                                    \"description\": \"Nome do estado, obrigatório\"\n",
    "                                },\n",
    "                                \"regiao\": {\n",
    "                                    \"bsonType\": \"string\",\n",
    "                                    \"enum\": [\"S\", \"SE\", \"CO\", \"NE\", \"N\"],\n",
    "                                    \"description\": \"Região, obrigatório e deve ser um valor válido\"\n",
    "                                }\n",
    "                            }\n",
    "                        }\n",
    "                    }\n",
    "                }\n",
    "            },\n",
    "            \"telefones\": {\n",
    "                \"bsonType\": \"array\",\n",
    "                \"minItems\": 1,\n",
    "                \"items\": {\n",
    "                    \"bsonType\": \"object\",\n",
    "                    \"required\": [\"ddd\", \"numero\"],\n",
    "                    \"properties\": {\n",
    "                        \"ddd\": {\n",
    "                            \"bsonType\": \"int\",\n",
    "                            \"minimum\": 10,\n",
    "                            \"maximum\": 99,\n",
    "                            \"description\": \"DDD do telefone\"\n",
    "                        },\n",
    "                        \"numero\": {\n",
    "                            \"bsonType\": \"int\",\n",
    "                            \"minimum\": 10000000,\n",
    "                            \"maximum\": 999999999,\n",
    "                            \"description\": \"Número do telefone sem DDD\"\n",
    "                        }\n",
    "                    }\n",
    "                }\n",
    "            },\n",
    "            \"cliente_id\": {\n",
    "                \"bsonType\": \"string\",\n",
    "                \"description\": \"ID do cliente, obrigatório e deve ser uma string\"\n",
    "            }\n",
    "        }\n",
    "    }\n",
    "});"
   ]
  },
  {
   "cell_type": "code",
   "execution_count": 87,
   "metadata": {
    "executionInfo": {
     "elapsed": 353,
     "status": "ok",
     "timestamp": 1730420698388,
     "user": {
      "displayName": "Rafael Spumberg",
      "userId": "06170716006991952872"
     },
     "user_tz": 180
    },
    "id": "YFwapNpIBpBh"
   },
   "outputs": [],
   "source": [
    "bd.create_collection( \"produtos\", validator={\n",
    "        \"$jsonSchema\": {\n",
    "            \"bsonType\": \"object\",\n",
    "            \"required\": [\"nome\", \"data_lancamento\", \"importado\", \"preco\", \"prazo_entrega\", \"categoria\", \"produto_id\"],\n",
    "            \"properties\": {\n",
    "                \"nome\": {\n",
    "                    \"bsonType\": \"string\",\n",
    "                    \"description\": \"Nome do produto, obrigatório e deve ser uma string\"\n",
    "                },\n",
    "                \"data_lancamento\": {\n",
    "                    \"bsonType\": \"date\",\n",
    "                    \"description\": \"Data de lançamento, obrigatória e deve ser uma data\"\n",
    "                },\n",
    "                \"importado\": {\n",
    "                    \"bsonType\": \"bool\",\n",
    "                    \"description\": \"Indica se o produto é importado, obrigatório e deve ser booleano\"\n",
    "                },\n",
    "                \"preco\": {\n",
    "                    \"bsonType\": \"double\",\n",
    "                    \"minimum\": 0,\n",
    "                    \"description\": \"Preço do produto, obrigatório e deve ser maior ou igual a zero\"\n",
    "                },\n",
    "                \"prazo_entrega\": {\n",
    "                    \"bsonType\": \"int\",\n",
    "                    \"minimum\": 0,\n",
    "                    \"description\": \"Prazo de entrega em dias, obrigatório e deve ser um inteiro\"\n",
    "                },\n",
    "                \"categoria\": {\n",
    "                    \"bsonType\": \"object\",\n",
    "                    \"required\": [\"_id\", \"nome\"],\n",
    "                    \"properties\": {\n",
    "                        \"_id\": {\n",
    "                            \"bsonType\": \"objectId\",\n",
    "                            \"description\": \"ID da categoria, obrigatório\"\n",
    "                        },\n",
    "                        \"nome\": {\n",
    "                            \"bsonType\": \"string\",\n",
    "                            \"description\": \"Nome da categoria, obrigatório\"\n",
    "                        }\n",
    "                    }\n",
    "                },\n",
    "                \"avaliacoes\": {\n",
    "                    \"bsonType\": \"array\",\n",
    "                    \"items\": {\n",
    "                        \"bsonType\": \"object\",\n",
    "                        \"required\": [\"cliente_id\", \"nota\"],\n",
    "                        \"properties\": {\n",
    "                            \"cliente_id\": {\n",
    "                                \"bsonType\": \"string\",\n",
    "                                \"description\": \"ID do cliente que avaliou\"\n",
    "                            },\n",
    "                            \"nota\": {\n",
    "                                \"bsonType\": \"int\",\n",
    "                                \"minimum\": 1,\n",
    "                                \"maximum\": 5,\n",
    "                                \"description\": \"Nota da avaliação entre 1 e 5\"\n",
    "                            },\n",
    "                            \"comentario\": {\n",
    "                                \"bsonType\": \"string\",\n",
    "                                \"description\": \"Comentário da avaliação, opcional\"\n",
    "                            }\n",
    "                        }\n",
    "                    }\n",
    "                },\n",
    "                \"produto_id\": {\n",
    "                    \"bsonType\": \"string\",\n",
    "                    \"description\": \"ID do produto, obrigatório e deve ser uma string\"\n",
    "                }\n",
    "            }\n",
    "        }\n",
    "    }\n",
    ");\n"
   ]
  },
  {
   "cell_type": "code",
   "execution_count": 88,
   "metadata": {
    "executionInfo": {
     "elapsed": 907,
     "status": "ok",
     "timestamp": 1730420702109,
     "user": {
      "displayName": "Rafael Spumberg",
      "userId": "06170716006991952872"
     },
     "user_tz": 180
    },
    "id": "8HiMgk9-PCMT"
   },
   "outputs": [],
   "source": [
    "bd.create_collection(\"pedidos\", validator={\n",
    "    \"$jsonSchema\": {\n",
    "        \"bsonType\": \"object\",\n",
    "        \"required\": [\"data_emissao\", \"cliente\", \"itens\"],\n",
    "        \"properties\": {\n",
    "            \"data_emissao\": {\n",
    "                \"bsonType\": \"date\",\n",
    "                \"description\": \"Data de emissão do pedido, obrigatória\"\n",
    "            },\n",
    "            \"cliente\": {\n",
    "                \"bsonType\": \"object\",\n",
    "                \"required\": [\"cliente_id\", \"nome\"],\n",
    "                \"properties\": {\n",
    "                    \"cliente_id\": {\n",
    "                        \"bsonType\": \"string\",\n",
    "                        \"description\": \"ID do cliente, obrigatório\"\n",
    "                    },\n",
    "                    \"nome\": {\n",
    "                        \"bsonType\": \"string\",\n",
    "                        \"description\": \"Nome do cliente, obrigatório\"\n",
    "                    }\n",
    "                }\n",
    "            },\n",
    "            \"itens\": {\n",
    "                \"bsonType\": \"array\",\n",
    "                \"minItems\": 1,\n",
    "                \"items\": {\n",
    "                    \"bsonType\": \"object\",\n",
    "                    \"required\": [\"produto\", \"quantidade\", \"valor_unitario\"],\n",
    "                    \"properties\": {\n",
    "                        \"produto\": {\n",
    "                            \"bsonType\": \"object\",\n",
    "                            \"required\": [\"produto_id\", \"nome\"],\n",
    "                            \"properties\": {\n",
    "                                \"produto_id\": {\n",
    "                                    \"bsonType\": \"string\",\n",
    "                                    \"description\": \"ID do produto, obrigatório\"\n",
    "                                },\n",
    "                                \"nome\": {\n",
    "                                    \"bsonType\": \"string\",\n",
    "                                    \"description\": \"Nome do produto, obrigatório\"\n",
    "                                }\n",
    "                            }\n",
    "                        },\n",
    "                        \"quantidade\": {\n",
    "                            \"bsonType\": \"int\",\n",
    "                            \"minimum\": 1,\n",
    "                            \"description\": \"Quantidade do produto, obrigatória e deve ser pelo menos 1\"\n",
    "                        },\n",
    "                        \"valor_unitario\": {\n",
    "                            \"bsonType\": \"double\",\n",
    "                            \"minimum\": 0,\n",
    "                            \"description\": \"Valor unitário do produto, obrigatório e deve ser maior ou igual a zero\"\n",
    "                        },\n",
    "                        \"entrega\": {\n",
    "                            \"bsonType\": \"object\",\n",
    "                            \"required\": [\"num_entrega\", \"data\", \"veiculo\"],\n",
    "                            \"properties\": {\n",
    "                                \"num_entrega\": {\n",
    "                                    \"bsonType\": \"int\",\n",
    "                                    \"description\": \"Número da entrega, obrigatório\"\n",
    "                                },\n",
    "                                \"data\": {\n",
    "                                    \"bsonType\": \"date\",\n",
    "                                    \"description\": \"Data da entrega, obrigatória\"\n",
    "                                },\n",
    "                                \"veiculo\": {\n",
    "                                    \"bsonType\": \"object\",\n",
    "                                    \"required\": [\"placa\", \"motorista\"],\n",
    "                                    \"properties\": {\n",
    "                                        \"placa\": {\n",
    "                                            \"bsonType\": \"string\",\n",
    "                                            \"pattern\": \"^[A-Z]{3}-[0-9]{4}$\",\n",
    "                                            \"description\": \"Placa do veículo\"\n",
    "                                        },\n",
    "                                        \"motorista\": {\n",
    "                                            \"bsonType\": \"object\",\n",
    "                                            \"required\": [\"cnh\", \"nome\"],\n",
    "                                            \"properties\": {\n",
    "                                                \"cnh\": {\n",
    "                                                    \"bsonType\": \"string\",\n",
    "                                                    \"pattern\": \"^[0-9]{11}$\",\n",
    "                                                    \"description\": \"CNH do motorista\"\n",
    "                                                },\n",
    "                                                \"nome\": {\n",
    "                                                    \"bsonType\": \"string\",\n",
    "                                                    \"description\": \"Nome do motorista\"\n",
    "                                                }\n",
    "                                            }\n",
    "                                        }\n",
    "                                    }\n",
    "                                }\n",
    "                            }\n",
    "                        }\n",
    "                    }\n",
    "                }\n",
    "            }\n",
    "        }\n",
    "    }\n",
    "});"
   ]
  },
  {
   "cell_type": "code",
   "execution_count": 71,
   "metadata": {
    "executionInfo": {
     "elapsed": 1,
     "status": "ok",
     "timestamp": 1730419617056,
     "user": {
      "displayName": "Rafael Spumberg",
      "userId": "06170716006991952872"
     },
     "user_tz": 180
    },
    "id": "EvIwVNNEro3n"
   },
   "outputs": [],
   "source": [
    "from datetime import datetime\n",
    "from bson import ObjectId"
   ]
  },
  {
   "cell_type": "code",
   "execution_count": 89,
   "metadata": {
    "colab": {
     "base_uri": "https://localhost:8080/"
    },
    "executionInfo": {
     "elapsed": 924,
     "status": "ok",
     "timestamp": 1730420705800,
     "user": {
      "displayName": "Rafael Spumberg",
      "userId": "06170716006991952872"
     },
     "user_tz": 180
    },
    "id": "Y4mwXZcYOpDD",
    "outputId": "04cd77c3-06d2-44a5-dbcf-e98e3d805e3f"
   },
   "outputs": [
    {
     "data": {
      "text/plain": [
       "InsertManyResult([ObjectId('67241fe0af14e54def4fa1f6'), ObjectId('67241fe0af14e54def4fa1f7'), ObjectId('67241fe0af14e54def4fa1f8'), ObjectId('67241fe0af14e54def4fa1f9'), ObjectId('67241fe0af14e54def4fa1fa')], acknowledged=True)"
      ]
     },
     "execution_count": 89,
     "metadata": {},
     "output_type": "execute_result"
    }
   ],
   "source": [
    "dados = [\n",
    "    {\n",
    "        \"cliente_id\": \"1\",\n",
    "        \"nome\": \"Ana Costa\",\n",
    "        \"data_cadastro\": datetime.strptime(\"2023-02-10T00:00:00Z\", \"%Y-%m-%dT%H:%M:%SZ\"),\n",
    "        \"tipo\": \"F\",\n",
    "        \"documento\": {\n",
    "            \"cpf\": \"321.654.987-01\",\n",
    "            \"data_nascimento\": datetime.strptime(\"1985-06-15T00:00:00Z\", \"%Y-%m-%dT%H:%M:%SZ\"),\n",
    "            \"genero\": \"F\"\n",
    "        },\n",
    "        \"endereco\": [\n",
    "            {\n",
    "                \"rua\": \"Rua dos Jacarandás\",\n",
    "                \"numero\": 120,\n",
    "                \"cep\": \"87654-321\",\n",
    "                \"cidade\": {\n",
    "                    \"nome\": \"Curitiba\",\n",
    "                    \"uf\": \"PR\",\n",
    "                    \"estado_nome\": \"Paraná\",\n",
    "                    \"regiao\": \"S\"\n",
    "                }\n",
    "            }\n",
    "        ],\n",
    "        \"telefones\": [\n",
    "            {\n",
    "                \"ddd\": 41,\n",
    "                \"numero\": 999998888\n",
    "            }\n",
    "        ]\n",
    "    },\n",
    "    {\n",
    "        \"cliente_id\": \"2\",\n",
    "        \"nome\": \"Lucas Almeida\",\n",
    "        \"data_cadastro\": datetime.strptime(\"2023-03-25T00:00:00Z\", \"%Y-%m-%dT%H:%M:%SZ\"),\n",
    "        \"tipo\": \"F\",\n",
    "        \"documento\": {\n",
    "            \"cpf\": \"123.987.654-32\",\n",
    "            \"data_nascimento\": datetime.strptime(\"1992-11-30T00:00:00Z\", \"%Y-%m-%dT%H:%M:%SZ\"),\n",
    "            \"genero\": \"M\"\n",
    "        },\n",
    "        \"endereco\": [\n",
    "            {\n",
    "                \"rua\": \"Avenida das Palmeiras\",\n",
    "                \"numero\": 55,\n",
    "                \"cep\": \"11223-445\",\n",
    "                \"cidade\": {\n",
    "                    \"nome\": \"Florianópolis\",\n",
    "                    \"uf\": \"SC\",\n",
    "                    \"estado_nome\": \"Santa Catarina\",\n",
    "                    \"regiao\": \"S\"\n",
    "                }\n",
    "            }\n",
    "        ],\n",
    "        \"telefones\": [\n",
    "            {\n",
    "                \"ddd\": 48,\n",
    "                \"numero\": 987654321\n",
    "            }\n",
    "        ]\n",
    "    },\n",
    "    {\n",
    "        \"cliente_id\": \"3\",\n",
    "        \"nome\": \"Maria Silva\",\n",
    "        \"data_cadastro\": datetime.strptime(\"2023-04-12T00:00:00Z\", \"%Y-%m-%dT%H:%M:%SZ\"),\n",
    "        \"tipo\": \"F\",\n",
    "        \"documento\": {\n",
    "            \"cpf\": \"456.789.123-45\",\n",
    "            \"data_nascimento\": datetime.strptime(\"1978-03-05T00:00:00Z\", \"%Y-%m-%dT%H:%M:%SZ\"),\n",
    "            \"genero\": \"F\"\n",
    "        },\n",
    "        \"endereco\": [\n",
    "            {\n",
    "                \"rua\": \"Rua das Hortênsias\",\n",
    "                \"numero\": 256,\n",
    "                \"cep\": \"54321-098\",\n",
    "                \"cidade\": {\n",
    "                    \"nome\": \"Belo Horizonte\",\n",
    "                    \"uf\": \"MG\",\n",
    "                    \"estado_nome\": \"Minas Gerais\",\n",
    "                    \"regiao\": \"SE\"\n",
    "                }\n",
    "            }\n",
    "        ],\n",
    "        \"telefones\": [\n",
    "            {\n",
    "                \"ddd\": 31,\n",
    "                \"numero\": 998877665\n",
    "            }\n",
    "        ]\n",
    "    },\n",
    "    {\n",
    "        \"cliente_id\": \"4\",\n",
    "        \"nome\": \"Tech Solutions LTDA\",\n",
    "        \"data_cadastro\": datetime.strptime(\"2023-05-10T00:00:00Z\", \"%Y-%m-%dT%H:%M:%SZ\"),\n",
    "        \"tipo\": \"J\",\n",
    "        \"documento\": {\n",
    "            \"cnpj\": \"12.345.678/0001-90\",\n",
    "            \"razao_social\": \"Tech Solutions Tecnologia\"\n",
    "        },\n",
    "        \"endereco\": [\n",
    "            {\n",
    "                \"rua\": \"Rua do Comércio\",\n",
    "                \"numero\": 789,\n",
    "                \"cep\": \"98765-432\",\n",
    "                \"cidade\": {\n",
    "                    \"nome\": \"São Paulo\",\n",
    "                    \"uf\": \"SP\",\n",
    "                    \"estado_nome\": \"São Paulo\",\n",
    "                    \"regiao\": \"SE\"\n",
    "                }\n",
    "            }\n",
    "        ],\n",
    "        \"telefones\": [\n",
    "            {\n",
    "                \"ddd\": 11,\n",
    "                \"numero\": 912345678\n",
    "            }\n",
    "        ]\n",
    "    },\n",
    "    {\n",
    "        \"cliente_id\": \"5\",\n",
    "        \"nome\": \"Alimentos S/A\",\n",
    "        \"data_cadastro\": datetime.strptime(\"2023-06-20T00:00:00Z\", \"%Y-%m-%dT%H:%M:%SZ\"),\n",
    "        \"tipo\": \"J\",\n",
    "        \"documento\": {\n",
    "            \"cnpj\": \"98.765.432/0001-12\",\n",
    "            \"razao_social\": \"Alimentos e Bebidas S/A\"\n",
    "        },\n",
    "        \"endereco\": [\n",
    "            {\n",
    "                \"rua\": \"Avenida Central\",\n",
    "                \"numero\": 654,\n",
    "                \"cep\": \"23456-789\",\n",
    "                \"cidade\": {\n",
    "                    \"nome\": \"Rio de Janeiro\",\n",
    "                    \"uf\": \"RJ\",\n",
    "                    \"estado_nome\": \"Rio de Janeiro\",\n",
    "                    \"regiao\": \"SE\"\n",
    "                }\n",
    "            }\n",
    "        ],\n",
    "        \"telefones\": [\n",
    "            {\n",
    "                \"ddd\": 21,\n",
    "                \"numero\": 923456789\n",
    "            }\n",
    "        ]\n",
    "    }\n",
    "]\n",
    "\n",
    "bd.clientes.insert_many(dados)"
   ]
  },
  {
   "cell_type": "code",
   "execution_count": 90,
   "metadata": {
    "colab": {
     "base_uri": "https://localhost:8080/"
    },
    "executionInfo": {
     "elapsed": 374,
     "status": "ok",
     "timestamp": 1730420710058,
     "user": {
      "displayName": "Rafael Spumberg",
      "userId": "06170716006991952872"
     },
     "user_tz": 180
    },
    "id": "ePMd_8Kbr149",
    "outputId": "f59b6994-0f0f-47a8-8d3b-f5178d474dbb"
   },
   "outputs": [
    {
     "data": {
      "text/plain": [
       "InsertManyResult([ObjectId('67241fe5af14e54def4fa1fb'), ObjectId('67241fe5af14e54def4fa1fc'), ObjectId('67241fe5af14e54def4fa1fd'), ObjectId('67241fe5af14e54def4fa1fe'), ObjectId('67241fe5af14e54def4fa1ff')], acknowledged=True)"
      ]
     },
     "execution_count": 90,
     "metadata": {},
     "output_type": "execute_result"
    }
   ],
   "source": [
    "dados_produtos = [\n",
    "    {\n",
    "        \"produto_id\": \"1\",\n",
    "        \"nome\": \"Smartphone XPro\",\n",
    "        \"data_lancamento\": datetime.strptime(\"2023-01-15T00:00:00Z\", \"%Y-%m-%dT%H:%M:%SZ\"),\n",
    "        \"importado\": True,\n",
    "        \"preco\": 2999.99,\n",
    "        \"prazo_entrega\": 5,\n",
    "        \"categoria\": {\n",
    "            \"_id\": ObjectId(\"64b8d4e78b2e4c0b64f7a1f1\"),\n",
    "            \"nome\": \"Eletrônicos\"\n",
    "        },\n",
    "        \"avaliacoes\": [\n",
    "            {\n",
    "                \"cliente_id\": \"1\",\n",
    "                \"nota\": 5,\n",
    "                \"comentario\": \"Ótimo desempenho e câmera excelente.\"\n",
    "            }\n",
    "        ]\n",
    "    },\n",
    "    {\n",
    "        \"produto_id\": \"2\",\n",
    "        \"nome\": \"Smart TV 4K\",\n",
    "        \"data_lancamento\": datetime.strptime(\"2022-11-20T00:00:00Z\", \"%Y-%m-%dT%H:%M:%SZ\"),\n",
    "        \"importado\": True,\n",
    "        \"preco\": 2599.99,\n",
    "        \"prazo_entrega\": 7,\n",
    "        \"categoria\": {\n",
    "            \"_id\": ObjectId(\"64b8d4e78b2e4c0b64f7a1f2\"),\n",
    "            \"nome\": \"Eletrônicos\"\n",
    "        },\n",
    "        \"avaliacoes\": [\n",
    "            {\n",
    "                \"cliente_id\": \"2\",\n",
    "                \"nota\": 4,\n",
    "                \"comentario\": \"Excelente qualidade de imagem.\"\n",
    "            }\n",
    "        ]\n",
    "    },\n",
    "    {\n",
    "        \"produto_id\": \"3\",\n",
    "        \"nome\": \"Notebook Ultra\",\n",
    "        \"data_lancamento\": datetime.strptime(\"2023-02-10T00:00:00Z\", \"%Y-%m-%dT%H:%M:%SZ\"),\n",
    "        \"importado\": True,\n",
    "        \"preco\": 4999.99,\n",
    "        \"prazo_entrega\": 10,\n",
    "        \"categoria\": {\n",
    "            \"_id\": ObjectId(\"64b8d4e78b2e4c0b64f7a1f3\"),\n",
    "            \"nome\": \"Computadores\"\n",
    "        },\n",
    "        \"avaliacoes\": [\n",
    "            {\n",
    "                \"cliente_id\": \"3\",\n",
    "                \"nota\": 5,\n",
    "                \"comentario\": \"Desempenho incrível e ótima construção.\"\n",
    "            }\n",
    "        ]\n",
    "    },\n",
    "    {\n",
    "        \"produto_id\": \"4\",\n",
    "        \"nome\": \"Cafeteira Automática\",\n",
    "        \"data_lancamento\": datetime.strptime(\"2021-06-15T00:00:00Z\", \"%Y-%m-%dT%H:%M:%SZ\"),\n",
    "        \"importado\": False,\n",
    "        \"preco\": 799.99,\n",
    "        \"prazo_entrega\": 4,\n",
    "        \"categoria\": {\n",
    "            \"_id\": ObjectId(\"64b8d4e78b2e4c0b64f7a1f4\"),\n",
    "            \"nome\": \"Eletrodomésticos\"\n",
    "        },\n",
    "        \"avaliacoes\": [\n",
    "            {\n",
    "                \"cliente_id\": \"4\",\n",
    "                \"nota\": 4,\n",
    "                \"comentario\": \"Faz um ótimo café, mas é um pouco barulhenta.\"\n",
    "            }\n",
    "        ]\n",
    "    },\n",
    "    {\n",
    "        \"produto_id\": \"5\",\n",
    "        \"nome\": \"Fone de Ouvido Bluetooth\",\n",
    "        \"data_lancamento\": datetime.strptime(\"2023-03-01T00:00:00Z\", \"%Y-%m-%dT%H:%M:%SZ\"),\n",
    "        \"importado\": False,\n",
    "        \"preco\": 199.99,\n",
    "        \"prazo_entrega\": 3,\n",
    "        \"categoria\": {\n",
    "            \"_id\": ObjectId(\"64b8d4e78b2e4c0b64f7a1f5\"),\n",
    "            \"nome\": \"Acessórios\"\n",
    "        },\n",
    "        \"avaliacoes\": [\n",
    "            {\n",
    "                \"cliente_id\": \"5\",\n",
    "                \"nota\": 4,\n",
    "                \"comentario\": \"Boa qualidade de som, mas poderia ter mais bateria.\"\n",
    "            }\n",
    "        ]\n",
    "    }\n",
    "]\n",
    "\n",
    "bd.produtos.insert_many(dados_produtos)\n"
   ]
  },
  {
   "cell_type": "code",
   "execution_count": 91,
   "metadata": {
    "colab": {
     "base_uri": "https://localhost:8080/"
    },
    "executionInfo": {
     "elapsed": 565,
     "status": "ok",
     "timestamp": 1730420715071,
     "user": {
      "displayName": "Rafael Spumberg",
      "userId": "06170716006991952872"
     },
     "user_tz": 180
    },
    "id": "xJj9ndJ358WN",
    "outputId": "f010db6f-9b70-4bb7-b86a-b15df4d7e6c2"
   },
   "outputs": [
    {
     "data": {
      "text/plain": [
       "InsertManyResult([ObjectId('67241fe9af14e54def4fa200'), ObjectId('67241fe9af14e54def4fa201'), ObjectId('67241fe9af14e54def4fa202'), ObjectId('67241fe9af14e54def4fa203'), ObjectId('67241fe9af14e54def4fa204')], acknowledged=True)"
      ]
     },
     "execution_count": 91,
     "metadata": {},
     "output_type": "execute_result"
    }
   ],
   "source": [
    "dados_pedidos = [\n",
    "    {\n",
    "        \"data_emissao\": datetime.strptime(\"2023-07-01T00:00:00Z\", \"%Y-%m-%dT%H:%M:%SZ\"),\n",
    "        \"cliente\": {\n",
    "            \"cliente_id\": \"1\",  # ID Ana Costa\n",
    "            \"nome\": \"Ana Costa\"\n",
    "        },\n",
    "        \"itens\": [\n",
    "            {\n",
    "                \"produto\": {\n",
    "                    \"produto_id\": \"1\",  # ID do produto Smartphone XPro\n",
    "                    \"nome\": \"Smartphone XPro\"\n",
    "                },\n",
    "                \"quantidade\": 1,\n",
    "                \"valor_unitario\": 2999.99,\n",
    "                \"entrega\": {\n",
    "                    \"num_entrega\": 1,\n",
    "                    \"data\": datetime.strptime(\"2023-07-05T00:00:00Z\", \"%Y-%m-%dT%H:%M:%SZ\"),\n",
    "                    \"veiculo\": {\n",
    "                        \"placa\": \"ABC-1234\",\n",
    "                        \"motorista\": {\n",
    "                            \"cnh\": \"12345678901\",\n",
    "                            \"nome\": \"Carlos Silva\"\n",
    "                        }\n",
    "                    }\n",
    "                }\n",
    "            }\n",
    "        ]\n",
    "    },\n",
    "    {\n",
    "        \"data_emissao\": datetime.strptime(\"2023-07-10T00:00:00Z\", \"%Y-%m-%dT%H:%M:%SZ\"),\n",
    "        \"cliente\": {\n",
    "            \"cliente_id\": \"2\",  # ID do cliente Lucas Almeida\n",
    "            \"nome\": \"Lucas Almeida\"\n",
    "        },\n",
    "        \"itens\": [\n",
    "            {\n",
    "                \"produto\": {\n",
    "                    \"produto_id\": \"2\",  # ID do produto Smart TV 4K\n",
    "                    \"nome\": \"Smart TV 4K\"\n",
    "                },\n",
    "                \"quantidade\": 1,\n",
    "                \"valor_unitario\": 2599.99,\n",
    "                \"entrega\": {\n",
    "                    \"num_entrega\": 2,\n",
    "                    \"data\": datetime.strptime(\"2023-07-15T00:00:00Z\", \"%Y-%m-%dT%H:%M:%SZ\"),\n",
    "                    \"veiculo\": {\n",
    "                        \"placa\": \"DEF-5678\",\n",
    "                        \"motorista\": {\n",
    "                            \"cnh\": \"23456789012\",\n",
    "                            \"nome\": \"João Pereira\"\n",
    "                        }\n",
    "                    }\n",
    "                }\n",
    "            }\n",
    "        ]\n",
    "    },\n",
    "    {\n",
    "        \"data_emissao\": datetime.strptime(\"2023-07-15T00:00:00Z\", \"%Y-%m-%dT%H:%M:%SZ\"),\n",
    "        \"cliente\": {\n",
    "            \"cliente_id\": \"3\",  # ID do cliente Maria Silva\n",
    "            \"nome\": \"Maria Silva\"\n",
    "        },\n",
    "        \"itens\": [\n",
    "            {\n",
    "                \"produto\": {\n",
    "                    \"produto_id\": \"3\",  # ID do produto Notebook Ultra\n",
    "                    \"nome\": \"Notebook Ultra\"\n",
    "                },\n",
    "                \"quantidade\": 2,\n",
    "                \"valor_unitario\": 4999.99,\n",
    "                \"entrega\": {\n",
    "                    \"num_entrega\": 3,\n",
    "                    \"data\": datetime.strptime(\"2023-07-20T00:00:00Z\", \"%Y-%m-%dT%H:%M:%SZ\"),\n",
    "                    \"veiculo\": {\n",
    "                        \"placa\": \"GHI-9101\",\n",
    "                        \"motorista\": {\n",
    "                            \"cnh\": \"34567890123\",\n",
    "                            \"nome\": \"Ana Souza\"\n",
    "                        }\n",
    "                    }\n",
    "                }\n",
    "            }\n",
    "        ]\n",
    "    },\n",
    "    {\n",
    "        \"data_emissao\": datetime.strptime(\"2023-07-20T00:00:00Z\", \"%Y-%m-%dT%H:%M:%SZ\"),\n",
    "        \"cliente\": {\n",
    "            \"cliente_id\": \"4\",  # ID do cliente Tech Solutions LTDA\n",
    "            \"nome\": \"Tech Solutions LTDA\"\n",
    "        },\n",
    "        \"itens\": [\n",
    "            {\n",
    "                \"produto\": {\n",
    "                    \"produto_id\": \"4\",  # ID do produto Cafeteira Automática\n",
    "                    \"nome\": \"Cafeteira Automática\"\n",
    "                },\n",
    "                \"quantidade\": 3,\n",
    "                \"valor_unitario\": 799.99,\n",
    "                \"entrega\": {\n",
    "                    \"num_entrega\": 4,\n",
    "                    \"data\": datetime.strptime(\"2023-07-25T00:00:00Z\", \"%Y-%m-%dT%H:%M:%SZ\"),\n",
    "                    \"veiculo\": {\n",
    "                        \"placa\": \"JKL-2345\",\n",
    "                        \"motorista\": {\n",
    "                            \"cnh\": \"45678901234\",\n",
    "                            \"nome\": \"Pedro Lima\"\n",
    "                        }\n",
    "                    }\n",
    "                }\n",
    "            }\n",
    "        ]\n",
    "    },\n",
    "    {\n",
    "        \"data_emissao\": datetime.strptime(\"2023-07-25T00:00:00Z\", \"%Y-%m-%dT%H:%M:%SZ\"),\n",
    "        \"cliente\": {\n",
    "            \"cliente_id\": \"5\",  # ID do cliente Alimentos S/A\n",
    "            \"nome\": \"Alimentos S/A\"\n",
    "        },\n",
    "        \"itens\": [\n",
    "            {\n",
    "                \"produto\": {\n",
    "                    \"produto_id\": \"5\",  # ID do produto Fone de Ouvido Bluetooth\n",
    "                    \"nome\": \"Fone de Ouvido Bluetooth\"\n",
    "                },\n",
    "                \"quantidade\": 5,\n",
    "                \"valor_unitario\": 199.99,\n",
    "                \"entrega\": {\n",
    "                    \"num_entrega\": 5,\n",
    "                    \"data\": datetime.strptime(\"2023-07-30T00:00:00Z\", \"%Y-%m-%dT%H:%M:%SZ\"),\n",
    "                    \"veiculo\": {\n",
    "                        \"placa\": \"MNO-6789\",\n",
    "                        \"motorista\": {\n",
    "                            \"cnh\": \"56789012345\",\n",
    "                            \"nome\": \"Marcos Dias\"\n",
    "                        }\n",
    "                    }\n",
    "                }\n",
    "            }\n",
    "        ]\n",
    "    }\n",
    "]\n",
    "\n",
    "bd.pedidos.insert_many(dados_pedidos)\n"
   ]
  },
  {
   "cell_type": "code",
   "execution_count": 92,
   "metadata": {
    "colab": {
     "base_uri": "https://localhost:8080/"
    },
    "executionInfo": {
     "elapsed": 371,
     "status": "ok",
     "timestamp": 1730420718396,
     "user": {
      "displayName": "Rafael Spumberg",
      "userId": "06170716006991952872"
     },
     "user_tz": 180
    },
    "id": "IaWqzOnN7fyL",
    "outputId": "ca5734b1-e832-4dcf-d626-ba8ff2830ffc"
   },
   "outputs": [
    {
     "name": "stdout",
     "output_type": "stream",
     "text": [
      "Cliente: Ana Costa, Cidades: Curitiba\n",
      "Cliente: Lucas Almeida, Cidades: Florianópolis\n",
      "Cliente: Maria Silva, Cidades: Belo Horizonte\n",
      "Cliente: Tech Solutions LTDA, Cidades: São Paulo\n",
      "Cliente: Alimentos S/A, Cidades: Rio de Janeiro\n"
     ]
    }
   ],
   "source": [
    "#listar os nomes dos clientes e as cidades onde residem;\n",
    "clientes = bd.clientes.find({}, {\"nome\": 1, \"endereco.cidade.nome\": 1, \"_id\": 0})\n",
    "\n",
    "for cliente in clientes:\n",
    "    nome = cliente.get(\"nome\")\n",
    "    cidades = [end[\"cidade\"][\"nome\"] for end in cliente[\"endereco\"]]\n",
    "    print(f\"Cliente: {nome}, Cidades: {', '.join(cidades)}\")\n",
    "\n"
   ]
  },
  {
   "cell_type": "code",
   "execution_count": 93,
   "metadata": {
    "colab": {
     "base_uri": "https://localhost:8080/"
    },
    "executionInfo": {
     "elapsed": 355,
     "status": "ok",
     "timestamp": 1730420721362,
     "user": {
      "displayName": "Rafael Spumberg",
      "userId": "06170716006991952872"
     },
     "user_tz": 180
    },
    "id": "s-5_27QB7rNp",
    "outputId": "2daa9169-de5b-4c79-8acc-d66b573fe495"
   },
   "outputs": [
    {
     "name": "stdout",
     "output_type": "stream",
     "text": [
      "Categoria: Eletrônicos, Total de produtos: 2\n",
      "Categoria: Computadores, Total de produtos: 1\n",
      "Categoria: Acessórios, Total de produtos: 1\n",
      "Categoria: Eletrodomésticos, Total de produtos: 1\n"
     ]
    }
   ],
   "source": [
    "# listar a quantidade total de produtos em cada categoria;\n",
    "pipeline = [\n",
    "    {\n",
    "        \"$group\": {\n",
    "            \"_id\": \"$categoria.nome\",\n",
    "            \"total_produtos\": {\"$sum\": 1}\n",
    "        }\n",
    "    },\n",
    "    {\n",
    "        \"$sort\": {\"total_produtos\": -1}\n",
    "    }\n",
    "]\n",
    "\n",
    "resultado = bd.produtos.aggregate(pipeline)\n",
    "\n",
    "for categoria in resultado:\n",
    "    print(f\"Categoria: {categoria['_id']}, Total de produtos: {categoria['total_produtos']}\")\n"
   ]
  },
  {
   "cell_type": "code",
   "execution_count": 94,
   "metadata": {
    "colab": {
     "base_uri": "https://localhost:8080/"
    },
    "executionInfo": {
     "elapsed": 411,
     "status": "ok",
     "timestamp": 1730420723769,
     "user": {
      "displayName": "Rafael Spumberg",
      "userId": "06170716006991952872"
     },
     "user_tz": 180
    },
    "id": "WeLx8ryJ8jfU",
    "outputId": "2b07fdbc-0c28-4dd8-e035-6c2bd88b889e"
   },
   "outputs": [
    {
     "name": "stdout",
     "output_type": "stream",
     "text": [
      "Produto: Smartphone XPro, Total de vendas: 1\n",
      "Produto: Notebook Ultra, Total de vendas: 1\n",
      "Produto: Fone de Ouvido Bluetooth, Total de vendas: 1\n",
      "Produto: Smart TV 4K, Total de vendas: 1\n",
      "Produto: Cafeteira Automática, Total de vendas: 1\n"
     ]
    }
   ],
   "source": [
    "#listar os produtos mais vendidos, ou seja, que aparecem no maior número de pedidos;\n",
    "pipeline = [\n",
    "    {\n",
    "        \"$unwind\": \"$itens\"\n",
    "    },\n",
    "    {\n",
    "        \"$group\": {\n",
    "            \"_id\": \"$itens.produto.nome\",\n",
    "            \"total_vendas\": {\"$sum\": 1}\n",
    "        }\n",
    "    },\n",
    "    {\n",
    "        \"$sort\": {\"total_vendas\": -1}\n",
    "    }\n",
    "]\n",
    "\n",
    "resultado = bd.pedidos.aggregate(pipeline)\n",
    "\n",
    "for produto in resultado:\n",
    "    print(f\"Produto: {produto['_id']}, Total de vendas: {produto['total_vendas']}\")\n"
   ]
  },
  {
   "cell_type": "code",
   "execution_count": 95,
   "metadata": {
    "colab": {
     "base_uri": "https://localhost:8080/"
    },
    "executionInfo": {
     "elapsed": 367,
     "status": "ok",
     "timestamp": 1730420726216,
     "user": {
      "displayName": "Rafael Spumberg",
      "userId": "06170716006991952872"
     },
     "user_tz": 180
    },
    "id": "8a8PWaQ48xTO",
    "outputId": "23141486-c747-4330-842d-4b019ef1789c"
   },
   "outputs": [
    {
     "name": "stdout",
     "output_type": "stream",
     "text": [
      "Cliente: Maria Silva, Número do pedido: 67241fe9af14e54def4fa202, Valor total: 9999.98\n",
      "Cliente: Ana Costa, Número do pedido: 67241fe9af14e54def4fa200, Valor total: 2999.99\n",
      "Cliente: Lucas Almeida, Número do pedido: 67241fe9af14e54def4fa201, Valor total: 2599.99\n",
      "Cliente: Tech Solutions LTDA, Número do pedido: 67241fe9af14e54def4fa203, Valor total: 2399.97\n",
      "Cliente: Alimentos S/A, Número do pedido: 67241fe9af14e54def4fa204, Valor total: 999.95\n"
     ]
    }
   ],
   "source": [
    "#listar o nome do cliente, número do pedido e o valor total do pedido em ordem decrescente de valor total.\n",
    "pipeline = [\n",
    "    {\n",
    "        \"$unwind\": \"$itens\"\n",
    "    },\n",
    "    {\n",
    "        \"$group\": {\n",
    "            \"_id\": \"$_id\",\n",
    "            \"cliente_nome\": {\"$first\": \"$cliente.nome\"},\n",
    "            \"valor_total\": {\"$sum\": {\"$multiply\": [\"$itens.quantidade\", \"$itens.valor_unitario\"]}}\n",
    "        }\n",
    "    },\n",
    "    {\n",
    "        \"$sort\": {\"valor_total\": -1}\n",
    "    }\n",
    "]\n",
    "\n",
    "resultado = bd.pedidos.aggregate(pipeline)\n",
    "\n",
    "for pedido in resultado:\n",
    "    print(f\"Cliente: {pedido['cliente_nome']}, Número do pedido: {pedido['_id']}, Valor total: {pedido['valor_total']:.2f}\")\n"
   ]
  },
  {
   "cell_type": "code",
   "execution_count": 102,
   "metadata": {
    "colab": {
     "base_uri": "https://localhost:8080/"
    },
    "executionInfo": {
     "elapsed": 591,
     "status": "ok",
     "timestamp": 1730421362824,
     "user": {
      "displayName": "Rafael Spumberg",
      "userId": "06170716006991952872"
     },
     "user_tz": 180
    },
    "id": "KSzQi35R9Ikj",
    "outputId": "cdee0f98-df69-443d-de5c-7a868b566f4b"
   },
   "outputs": [
    {
     "name": "stdout",
     "output_type": "stream",
     "text": [
      "Categoria: Eletrônicos, Total de vendas: 2\n",
      "Categoria: Eletrodomésticos, Total de vendas: 1\n",
      "Categoria: Computadores, Total de vendas: 1\n"
     ]
    }
   ],
   "source": [
    "pipeline = [\n",
    "    {\"$unwind\": \"$itens\"},\n",
    "    {\"$lookup\": {\n",
    "        \"from\": \"produtos\",\n",
    "        \"localField\": \"itens.produto.produto_id\",\n",
    "        \"foreignField\": \"produto_id\",\n",
    "        \"as\": \"produto_info\"\n",
    "    }},\n",
    "    {\"$unwind\": \"$produto_info\"},\n",
    "    {\"$group\": {\n",
    "        \"_id\": \"$produto_info.categoria.nome\",\n",
    "        \"total_vendas\": {\"$sum\": 1}\n",
    "    }},\n",
    "    {\"$sort\": {\"total_vendas\": -1}},\n",
    "    {\"$limit\": 3}\n",
    "]\n",
    "\n",
    "resultado = list(bd.pedidos.aggregate(pipeline))\n",
    "\n",
    "for categoria in resultado:\n",
    "    print(f\"Categoria: {categoria['_id']}, Total de vendas: {categoria['total_vendas']}\")\n",
    "\n"
   ]
  }
 ],
 "metadata": {
  "colab": {
   "authorship_tag": "ABX9TyNCpSLiTGzEKLQKJ3DsPABF",
   "provenance": []
  },
  "kernelspec": {
   "display_name": "Python 3",
   "name": "python3"
  },
  "language_info": {
   "name": "python"
  }
 },
 "nbformat": 4,
 "nbformat_minor": 0
}
